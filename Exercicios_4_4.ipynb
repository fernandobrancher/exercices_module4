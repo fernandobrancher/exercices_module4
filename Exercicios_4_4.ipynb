{
  "cells": [
    {
      "attachments": {},
      "cell_type": "markdown",
      "metadata": {
        "id": "HZAVhIeuH5QN"
      },
      "source": [
        "# Exercicio:\n",
        "\n",
        "#### **Aluno:** Fernando Augusto Brancher\n",
        "\n",
        "1. Criar função de busca binária e comparar com os outros metodos de busca. \n",
        "\n",
        "Essa função vai olhar para nossa lista ordenada e comparar nosso item com o meio da lista, a depender do resultado da comparação, a busca será feito na metade superior ou inferior."
      ]
    },
    {
      "cell_type": "code",
      "execution_count": null,
      "metadata": {
        "id": "GaIUTTkJwdDt"
      },
      "outputs": [],
      "source": [
        "lista = [i for i in range(5000)]\n",
        "\n",
        "encontrar = 100"
      ]
    },
    {
      "cell_type": "code",
      "execution_count": null,
      "metadata": {
        "id": "xyB_mgYc1cfn"
      },
      "outputs": [],
      "source": [
        "lista = [i for i in range(5000)]\n",
        "\n",
        "encontrar = 250"
      ]
    },
    {
      "cell_type": "code",
      "execution_count": null,
      "metadata": {
        "id": "5SUj0wywtNSJ"
      },
      "outputs": [],
      "source": [
        "## TERMINAR\n",
        "# Critério parada do while\n",
        "\n",
        "def biseccao(lista,item):\n",
        "  contador = 0\n",
        "  inf = 0\n",
        "  sup = len(lista)\n",
        "  achei = False\n",
        "  while achei != True:\n",
        "    meio = (inf+sup)//2\n",
        "    #print(meio)\n",
        "    contador += 1\n",
        "    if item == meio:\n",
        "      print('Achei')\n",
        "      achei = True\n",
        "    elif item > meio:\n",
        "      inf = meio\n",
        "    elif item < meio:\n",
        "      sup = meio\n"
      ]
    },
    {
      "cell_type": "code",
      "execution_count": null,
      "metadata": {
        "colab": {
          "base_uri": "https://localhost:8080/"
        },
        "id": "Bs44CFTsvN5M",
        "outputId": "d225f65f-9b7c-46a7-c825-d21a90208095"
      },
      "outputs": [
        {
          "name": "stdout",
          "output_type": "stream",
          "text": [
            "2500\n",
            "1250\n",
            "625\n",
            "312\n",
            "156\n",
            "234\n",
            "273\n",
            "253\n",
            "243\n",
            "248\n",
            "250\n",
            "Achei\n",
            "CPU times: user 650 µs, sys: 0 ns, total: 650 µs\n",
            "Wall time: 370 µs\n"
          ]
        }
      ],
      "source": [
        "%%time\n",
        "biseccao(lista,encontrar)"
      ]
    },
    {
      "cell_type": "code",
      "execution_count": null,
      "metadata": {
        "colab": {
          "base_uri": "https://localhost:8080/"
        },
        "id": "ub_nWZDIwwjF",
        "outputId": "dce5aa4d-c82e-4e9d-f55d-ca555a4fedc2"
      },
      "outputs": [
        {
          "name": "stdout",
          "output_type": "stream",
          "text": [
            "True\n"
          ]
        }
      ],
      "source": [
        "# Versão de alguns colegas, pra ter registrado outras formas de resolver\n",
        "\n",
        "#Versão do Matheus \n",
        "def binary_search(lista, num):\n",
        "    low = 0\n",
        "    high = len(lista) - 1\n",
        "    while low <= high:\n",
        "        mid = (low + high) // 2\n",
        "        if lista[mid] == num:\n",
        "            return True\n",
        "        elif lista[mid] < num:\n",
        "            low = mid + 1\n",
        "        else:\n",
        "            high = mid - 1\n",
        "    return False\n",
        "\n",
        "x=binary_search(range(1,1000), 500)\n",
        "print(x)\n",
        "\n",
        "#Versão do Tiago\n",
        "\n",
        "def busca_bin(lista, valor):\n",
        "  if len(lista)>1:\n",
        "    lista1 = lista[0:int(len(lista)/2)]\n",
        "    lista2 = lista[int(len(lista)/2)+1::]\n",
        "    #print(lista1)\n",
        "    #print(lista2)\n",
        "    if valor>lista1[-1]:\n",
        "      busca_bin(lista2,valor)\n",
        "    else:\n",
        "      busca_bin(lista1,valor)\n",
        "  else:\n",
        "    if lista[0]==valor:\n",
        "      print('Achei')\n",
        "      return True\n",
        "    print('Não Achei')\n",
        "    return False"
      ]
    },
    {
      "cell_type": "markdown",
      "metadata": {
        "id": "jSc-QIPXyfrJ"
      },
      "source": [
        "### 2.4) Complexidade de estruturas de dados\n",
        "\n",
        "Tratar da complexidade de algoritmos também possibilita analisar a complexidade das estruturas de dados. Com isso, cada estrutura de dados (listas, dicionários, árvores) possui sua própria complexidade de memória e tempo de execução.\n",
        "\n",
        "Para analisar essas estruturas podemos nos apoiar nas seguintes operações: **acesso**, **busca**, **inserção** e **remoção**. De maneira simplificada, podemos anotar os custos médios de complexidade de listas, dicionários, árvores e grafos com a seguinte tabela.\n",
        "\n",
        "| Estrutura de dados | Acesso     | Busca      | Inserção   | Remoção    |\n",
        "| ------------------ | ---------- | ---------- | ---------- | ---------- |\n",
        "| Listas             | O(1)       | O(N)       | O(N)       | O(N)       |\n",
        "| Dicionários        | O(1)       | O(1)       | O(1)       | O(1)       |\n",
        "| Árvores            | O(log2(N)) | O(log2(N)) | O(log2(N)) | O(log2(N)) |"
      ]
    },
    {
      "cell_type": "code",
      "execution_count": null,
      "metadata": {
        "id": "wRM3EnaKyUul"
      },
      "outputs": [],
      "source": []
    },
    {
      "cell_type": "markdown",
      "metadata": {
        "id": "yv5YQ_nlHhrc"
      },
      "source": [
        "-------------\n",
        "\n",
        "-----------------"
      ]
    },
    {
      "cell_type": "code",
      "execution_count": null,
      "metadata": {
        "id": "rcUL2ZUFHjER"
      },
      "outputs": [],
      "source": []
    }
  ],
  "metadata": {
    "colab": {
      "provenance": []
    },
    "kernelspec": {
      "display_name": "Python 3",
      "language": "python",
      "name": "python3"
    },
    "language_info": {
      "name": "python",
      "version": "3.11.1"
    },
    "vscode": {
      "interpreter": {
        "hash": "23e1087692d03fda744743085a0ad0a40b07d745467f4f6ddbf1ad3c97f43123"
      }
    }
  },
  "nbformat": 4,
  "nbformat_minor": 0
}
