{
  "cells": [
    {
      "cell_type": "markdown",
      "metadata": {
        "id": "XyT2_KUS76sR"
      },
      "source": [
        "# Exercícios\n",
        "\n",
        "#### **Aluno:** Fernando Augusto Brancher"
      ]
    },
    {
      "cell_type": "markdown",
      "metadata": {
        "id": "j3nkR1s68MsG"
      },
      "source": [
        "1. Crie um algoritmo que imprime uma lista de números inteiros de 1 a 50."
      ]
    },
    {
      "cell_type": "code",
      "execution_count": null,
      "metadata": {
        "colab": {
          "base_uri": "https://localhost:8080/"
        },
        "id": "moVMseqm8CWo",
        "outputId": "7d6b5ae7-07a9-4f76-e787-6a2e70dd78e3"
      },
      "outputs": [
        {
          "name": "stdout",
          "output_type": "stream",
          "text": [
            "[1, 2, 3, 4, 5, 6, 7, 8, 9, 10, 11, 12, 13, 14, 15, 16, 17, 18, 19, 20, 21, 22, 23, 24, 25, 26, 27, 28, 29, 30, 31, 32, 33, 34, 35, 36, 37, 38, 39, 40, 41, 42, 43, 44, 45, 46, 47, 48, 49, 50]\n"
          ]
        }
      ],
      "source": [
        "print(list(range(1,51)))"
      ]
    },
    {
      "cell_type": "markdown",
      "metadata": {
        "id": "7tsIbf2y8lQA"
      },
      "source": [
        "2. Crie um algoritmo que imprime uma lista de números inteiros palindromos de 1 a 121."
      ]
    },
    {
      "cell_type": "code",
      "execution_count": null,
      "metadata": {
        "colab": {
          "base_uri": "https://localhost:8080/"
        },
        "id": "NB_oh8e28saV",
        "outputId": "43cd6653-08c4-47de-a5ef-99ad17e2ac66"
      },
      "outputs": [
        {
          "name": "stdout",
          "output_type": "stream",
          "text": [
            "[1, 2, 3, 4, 5, 6, 7, 8, 9, 11, 22, 33, 44, 55, 66, 77, 88, 99, 101, 111, 121]\n"
          ]
        }
      ],
      "source": [
        "lista_numeros = list(range(1,122))\n",
        "palindromos = []\n",
        "\n",
        "for numero in lista_numeros:\n",
        "  numero_string = str(numero)\n",
        "  if numero_string == numero_string[::-1]:\n",
        "    palindromos.append(numero)\n",
        "\n",
        "print(palindromos)\n"
      ]
    },
    {
      "cell_type": "markdown",
      "metadata": {
        "id": "utoS6hER9Y2f"
      },
      "source": [
        "3. Crie um algoritmo que dado um dicionario de 5 pacientes contendo peso e altura, calcula e retorna (adiciona) o IMC do paciente no dicionario."
      ]
    },
    {
      "cell_type": "code",
      "execution_count": null,
      "metadata": {
        "colab": {
          "base_uri": "https://localhost:8080/"
        },
        "id": "S1DYnTR29x0K",
        "outputId": "5a62ec8e-9362-4bc0-e0bf-2b307fb5c556"
      },
      "outputs": [
        {
          "name": "stdout",
          "output_type": "stream",
          "text": [
            "{'Paciente1': {'Peso': 50, 'Altura': 1.58, 'IMC': 20.03}, 'Paciente 2': {'Peso': 68, 'Altura': 1.72, 'IMC': 22.99}, 'Paciente 3': {'Peso': 75, 'Altura': 1.76, 'IMC': 24.21}, 'Paciente 4': {'Peso': 29, 'Altura': 1.1, 'IMC': 23.97}, 'Paciente 5': {'Peso': 92, 'Altura': 1.78, 'IMC': 29.04}}\n"
          ]
        }
      ],
      "source": [
        "pacientes = {'Paciente1':{'Peso':50,'Altura':1.58},\n",
        "             'Paciente 2':{'Peso':68,'Altura':1.72}, \n",
        "             'Paciente 3':{'Peso':75,'Altura':1.76},\n",
        "             'Paciente 4':{'Peso':29,'Altura':1.10},\n",
        "             'Paciente 5':{'Peso':92,'Altura':1.78}}\n",
        "\n",
        "for paciente in pacientes:\n",
        "  peso = pacientes[paciente]['Peso']\n",
        "  altura = (pacientes[paciente]['Altura'])\n",
        "  imc = peso / altura ** 2\n",
        "  pacientes[paciente]['IMC'] = round(imc, ndigits=2)\n",
        "\n",
        "print(pacientes)"
      ]
    },
    {
      "cell_type": "markdown",
      "metadata": {
        "id": "l2y62DfQ-tI9"
      },
      "source": [
        "4. Crie um algoritmo que calcule o mínimo múltiplo comum de 2 números inteiros."
      ]
    },
    {
      "cell_type": "code",
      "execution_count": null,
      "metadata": {
        "id": "LkIsYZe_-0b-"
      },
      "outputs": [],
      "source": []
    },
    {
      "cell_type": "code",
      "execution_count": 1,
      "metadata": {
        "id": "lagOvl2JYhFj"
      },
      "outputs": [],
      "source": [
        "def mmc(num1, num2):\n",
        "  num_maior = max(num1, num2)\n",
        "  num_menor = min(num1, num2)\n",
        "  step = 1\n",
        "  multiplicador = 1\n",
        "\n",
        "  while num_maior*multiplicador%num_menor != 0:\n",
        "    print(f\"Steps: {step}\")\n",
        "    if num_maior*multiplicador%num_menor == 0:\n",
        "      return num_maior*multiplicador\n",
        "    else:\n",
        "      multiplicador += 1\n",
        "    step += 1\n",
        "  print(num_maior*multiplicador)"
      ]
    },
    {
      "cell_type": "code",
      "execution_count": 2,
      "metadata": {
        "colab": {
          "base_uri": "https://localhost:8080/"
        },
        "id": "Pr6x6qtbYr5u",
        "outputId": "18c5a59b-3877-4e17-b8d7-341708c4480e"
      },
      "outputs": [
        {
          "name": "stdout",
          "output_type": "stream",
          "text": [
            "Steps: 1\n",
            "Steps: 2\n",
            "84\n"
          ]
        }
      ],
      "source": [
        "mmc(12,28)"
      ]
    },
    {
      "cell_type": "code",
      "execution_count": null,
      "metadata": {},
      "outputs": [],
      "source": []
    }
  ],
  "metadata": {
    "colab": {
      "provenance": []
    },
    "kernelspec": {
      "display_name": "Python 3",
      "language": "python",
      "name": "python3"
    },
    "language_info": {
      "codemirror_mode": {
        "name": "ipython",
        "version": 3
      },
      "file_extension": ".py",
      "mimetype": "text/x-python",
      "name": "python",
      "nbconvert_exporter": "python",
      "pygments_lexer": "ipython3",
      "version": "3.11.1"
    },
    "vscode": {
      "interpreter": {
        "hash": "23e1087692d03fda744743085a0ad0a40b07d745467f4f6ddbf1ad3c97f43123"
      }
    }
  },
  "nbformat": 4,
  "nbformat_minor": 0
}
