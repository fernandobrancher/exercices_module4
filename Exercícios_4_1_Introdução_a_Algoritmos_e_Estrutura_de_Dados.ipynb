{
  "nbformat": 4,
  "nbformat_minor": 0,
  "metadata": {
    "colab": {
      "provenance": []
    },
    "kernelspec": {
      "name": "python3",
      "display_name": "Python 3"
    },
    "language_info": {
      "name": "python"
    }
  },
  "cells": [
    {
      "cell_type": "markdown",
      "source": [
        "# Exercícios\n",
        "\n",
        "#### **Aluno:** Fernando Augusto Brancher"
      ],
      "metadata": {
        "id": "XyT2_KUS76sR"
      }
    },
    {
      "cell_type": "markdown",
      "source": [
        "1. Crie um algoritmo que imprime uma lista de números inteiros de 1 a 50."
      ],
      "metadata": {
        "id": "j3nkR1s68MsG"
      }
    },
    {
      "cell_type": "code",
      "source": [
        "print(list(range(1,51)))"
      ],
      "metadata": {
        "id": "moVMseqm8CWo",
        "colab": {
          "base_uri": "https://localhost:8080/"
        },
        "outputId": "7d6b5ae7-07a9-4f76-e787-6a2e70dd78e3"
      },
      "execution_count": null,
      "outputs": [
        {
          "output_type": "stream",
          "name": "stdout",
          "text": [
            "[1, 2, 3, 4, 5, 6, 7, 8, 9, 10, 11, 12, 13, 14, 15, 16, 17, 18, 19, 20, 21, 22, 23, 24, 25, 26, 27, 28, 29, 30, 31, 32, 33, 34, 35, 36, 37, 38, 39, 40, 41, 42, 43, 44, 45, 46, 47, 48, 49, 50]\n"
          ]
        }
      ]
    },
    {
      "cell_type": "markdown",
      "source": [
        "2. Crie um algoritmo que imprime uma lista de números inteiros palindromos de 1 a 121."
      ],
      "metadata": {
        "id": "7tsIbf2y8lQA"
      }
    },
    {
      "cell_type": "code",
      "source": [
        "lista_numeros = list(range(1,122))\n",
        "palindromos = []\n",
        "\n",
        "for numero in lista_numeros:\n",
        "  numero_string = str(numero)\n",
        "  if numero_string == numero_string[::-1]:\n",
        "    palindromos.append(numero)\n",
        "\n",
        "print(palindromos)\n"
      ],
      "metadata": {
        "id": "NB_oh8e28saV",
        "colab": {
          "base_uri": "https://localhost:8080/"
        },
        "outputId": "43cd6653-08c4-47de-a5ef-99ad17e2ac66"
      },
      "execution_count": null,
      "outputs": [
        {
          "output_type": "stream",
          "name": "stdout",
          "text": [
            "[1, 2, 3, 4, 5, 6, 7, 8, 9, 11, 22, 33, 44, 55, 66, 77, 88, 99, 101, 111, 121]\n"
          ]
        }
      ]
    },
    {
      "cell_type": "markdown",
      "source": [
        "3. Crie um algoritmo que dado um dicionario de 5 pacientes contendo peso e altura, calcula e retorna (adiciona) o IMC do paciente no dicionario."
      ],
      "metadata": {
        "id": "utoS6hER9Y2f"
      }
    },
    {
      "cell_type": "code",
      "source": [
        "pacientes = {'Paciente1':{'Peso':50,'Altura':1.58},\n",
        "             'Paciente 2':{'Peso':68,'Altura':1.72}, \n",
        "             'Paciente 3':{'Peso':75,'Altura':1.76},\n",
        "             'Paciente 4':{'Peso':29,'Altura':1.10},\n",
        "             'Paciente 5':{'Peso':92,'Altura':1.78}}\n",
        "\n",
        "for paciente in pacientes:\n",
        "  peso = pacientes[paciente]['Peso']\n",
        "  altura = (pacientes[paciente]['Altura'])\n",
        "  imc = peso / altura ** 2\n",
        "  pacientes[paciente]['IMC'] = round(imc, ndigits=2)\n",
        "\n",
        "print(pacientes)"
      ],
      "metadata": {
        "id": "S1DYnTR29x0K",
        "colab": {
          "base_uri": "https://localhost:8080/"
        },
        "outputId": "5a62ec8e-9362-4bc0-e0bf-2b307fb5c556"
      },
      "execution_count": null,
      "outputs": [
        {
          "output_type": "stream",
          "name": "stdout",
          "text": [
            "{'Paciente1': {'Peso': 50, 'Altura': 1.58, 'IMC': 20.03}, 'Paciente 2': {'Peso': 68, 'Altura': 1.72, 'IMC': 22.99}, 'Paciente 3': {'Peso': 75, 'Altura': 1.76, 'IMC': 24.21}, 'Paciente 4': {'Peso': 29, 'Altura': 1.1, 'IMC': 23.97}, 'Paciente 5': {'Peso': 92, 'Altura': 1.78, 'IMC': 29.04}}\n"
          ]
        }
      ]
    },
    {
      "cell_type": "markdown",
      "source": [
        "4. Crie um algoritmo que calcule o mínimo múltiplo comum de 2 números inteiros."
      ],
      "metadata": {
        "id": "l2y62DfQ-tI9"
      }
    },
    {
      "cell_type": "code",
      "source": [],
      "metadata": {
        "id": "LkIsYZe_-0b-"
      },
      "execution_count": null,
      "outputs": []
    },
    {
      "cell_type": "code",
      "source": [
        "def mmc(num1, num2):\n",
        "  num_maior = max(num1, num2)\n",
        "  num_menor = min(num1, num2)\n",
        "  step = 1\n",
        "  multiplicador = 1\n",
        "\n",
        "  while num_maior*multiplicador%num_menor != 0:\n",
        "    print(f\"Steps: {step}\")\n",
        "    if num_maior*multiplicador%num_menor == 0:\n",
        "      return num_maior*multiplicador\n",
        "    else:\n",
        "      multiplicador += 1\n",
        "    step += 1\n",
        "  print(num_maior*multiplicador)"
      ],
      "metadata": {
        "id": "lagOvl2JYhFj"
      },
      "execution_count": null,
      "outputs": []
    },
    {
      "cell_type": "code",
      "source": [
        "mmc(14,28)"
      ],
      "metadata": {
        "colab": {
          "base_uri": "https://localhost:8080/"
        },
        "id": "Pr6x6qtbYr5u",
        "outputId": "18c5a59b-3877-4e17-b8d7-341708c4480e"
      },
      "execution_count": null,
      "outputs": [
        {
          "output_type": "stream",
          "name": "stdout",
          "text": [
            "28\n"
          ]
        }
      ]
    }
  ]
}