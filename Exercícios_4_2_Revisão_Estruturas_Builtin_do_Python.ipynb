{
  "cells": [
    {
      "attachments": {},
      "cell_type": "markdown",
      "metadata": {
        "id": "T_nKB9CMQQDh"
      },
      "source": [
        "# **Exercícios** Aula 4.2\n",
        "\n",
        "### **Aluno: Fernando Augusto Brancher**\n",
        "\n",
        "Realiza os exercicios e responda o forms de avaliação para aula 02: https://docs.google.com/forms/d/e/1FAIpQLSeSxB-FpmezTd1D6DHf80tybSIJ2YgO9bb3OFBhJfagfSZaiw/viewform"
      ]
    },
    {
      "cell_type": "markdown",
      "metadata": {
        "id": "E3Y0mmMBDUcL"
      },
      "source": [
        "**1. Sobre listas:**\n",
        "\n",
        "- crie uma lista com seus top 5 filmes/séries/animações\n",
        "- imprima a quantidade de itens tem em sua lista\n",
        "- adicione um item no final\n",
        "- adicione um item na segunda posição da lista\n",
        "- remova um item pelo nome\n",
        "- remova algum item pela posição\n",
        "- ordene a lista em ordem alfabética\n"
      ]
    },
    {
      "cell_type": "code",
      "execution_count": null,
      "metadata": {
        "colab": {
          "base_uri": "https://localhost:8080/"
        },
        "id": "Zp5u3WBVEDf8",
        "outputId": "f578c3a6-05e7-492d-c412-2c53e0f64427"
      },
      "outputs": [
        {
          "name": "stdout",
          "output_type": "stream",
          "text": [
            "['Sherlock Holmes', 'Harry Potter', '911', 'Game of Thrones', 'Lord of the Rings']\n",
            "['Sherlock Holmes', 'Enola Holmes', 'Harry Potter', '911', 'Game of Thrones', 'Lord of the Rings', 'Greys Anatomy']\n",
            "['Enola Holmes', 'Game of Thrones', 'Harry Potter', 'Lord of the Rings', 'Sherlock Holmes']\n"
          ]
        }
      ],
      "source": [
        "filmes = ['Sherlock Holmes','Harry Potter','911','Game of Thrones','Lord of the Rings']\n",
        "#print(filmes)\n",
        "len(filmes)\n",
        "filmes.append('Greys Anatomy')\n",
        "filmes.insert(1,'Enola Holmes')\n",
        "#print(filmes)\n",
        "filmes.remove('911')\n",
        "filmes.pop(-1)\n",
        "filmes.sort()\n",
        "\n",
        "print(filmes)\n"
      ]
    },
    {
      "cell_type": "markdown",
      "metadata": {
        "id": "ETrQRaTvCbop"
      },
      "source": [
        "**2. Sobre tuplas:**\n",
        "\n",
        "- Crie uma lista de compras com 5 elementos do tipo string\n",
        "- Transforme a lista em tupla\n",
        "- Imprima os 3 elementos centrais utilizando slice\n",
        "- Itere sobre os itens da tupla e imprima: o nome do item e quantas letras ele possui"
      ]
    },
    {
      "cell_type": "code",
      "execution_count": null,
      "metadata": {
        "colab": {
          "base_uri": "https://localhost:8080/"
        },
        "id": "NVLFK_i4DM5M",
        "outputId": "1bda1b2f-fb83-40ca-e2c4-df41a5e119e8"
      },
      "outputs": [
        {
          "name": "stdout",
          "output_type": "stream",
          "text": [
            "('Maça', 'Batata', 'Alho')\n",
            "Item: Banana | Qtde letras: 6\n",
            "Item: Maça | Qtde letras: 4\n",
            "Item: Batata | Qtde letras: 6\n",
            "Item: Alho | Qtde letras: 4\n",
            "Item: Cebola | Qtde letras: 6\n"
          ]
        }
      ],
      "source": [
        "lista_feira = ['Banana','Maça','Batata','Alho','Cebola']\n",
        "tupla_feira = tuple(lista_feira)\n",
        "print(tupla_feira[1:-1])\n",
        "\n",
        "for item in tupla_feira:\n",
        "  print(f'Item: {item} | Qtde letras: {len(item)}')"
      ]
    },
    {
      "cell_type": "markdown",
      "metadata": {
        "id": "BJuzGVucBzYA"
      },
      "source": [
        "**3. Sobre conjuntos:**\n",
        "\n",
        "- Gere um conjunto com 50 números aleatórios entre 1 e 100\n",
        "- Gere um segundo conjunto com 50 números aleatórios entre 5 e 150\n",
        "- Calcule:\n",
        "    - se são conjuntos disjuntos\n",
        "    - a interseção\n",
        "    - a união\n",
        "    - a diferença simétrica\n",
        "    \n",
        "- Para geração dos números aleatórios, utilize a lib nativa do python:\n",
        "\n",
        "```\n",
        "  import random\n",
        "  random.randint(inicio, fim)\n",
        "```"
      ]
    },
    {
      "cell_type": "code",
      "execution_count": null,
      "metadata": {
        "colab": {
          "base_uri": "https://localhost:8080/"
        },
        "id": "pyLJbIb3CI-b",
        "outputId": "52a5b5a8-a7fa-497f-a248-87c28b64b694"
      },
      "outputs": [
        {
          "name": "stdout",
          "output_type": "stream",
          "text": [
            "A intersecção dos conjuntos tem 12 elementos e é dada por: {64, 97, 98, 36, 37, 39, 77, 15, 79, 49, 82, 93}\n",
            "A união dos conjuntos tem 69 elementos e é dada por: {5, 6, 9, 11, 12, 13, 14, 15, 20, 22, 24, 26, 28, 35, 36, 37, 39, 40, 42, 44, 45, 46, 47, 49, 50, 51, 53, 56, 58, 59, 60, 61, 62, 63, 64, 66, 68, 71, 73, 74, 75, 77, 78, 79, 80, 81, 82, 84, 86, 87, 89, 90, 91, 92, 93, 97, 98, 107, 110, 118, 120, 121, 122, 127, 128, 135, 142, 148, 150}\n",
            "A diferença simétrica dos conjuntos tem 57 elementos e é dada por: {128, 5, 6, 135, 9, 11, 12, 13, 142, 14, 148, 20, 150, 22, 24, 26, 28, 35, 40, 42, 44, 45, 46, 47, 50, 51, 53, 56, 58, 59, 60, 61, 62, 63, 66, 68, 71, 73, 74, 75, 78, 80, 81, 84, 86, 87, 89, 90, 91, 92, 107, 110, 118, 120, 121, 122, 127}\n"
          ]
        }
      ],
      "source": [
        "import random\n",
        "random.randint(1, 100)\n",
        "\n",
        "conjunto_1 = [random.randint(1, 100) for numero in range(0,50)]\n",
        "A = set(conjunto_1)\n",
        "conjunto_2 = [random.randint(5, 150) for numero in range(0,50)]\n",
        "B = set(conjunto_2)\n",
        "\n",
        "disjuntos = A.isdisjoint(B)\n",
        "intersecao = A & B\n",
        "print(f'A intersecção dos conjuntos tem {len(intersecao)} elementos e é dada por: {intersecao}')\n",
        "uniao = A | B\n",
        "print(f'A união dos conjuntos tem {len(uniao)} elementos e é dada por: {uniao}')\n",
        "diferenca_simetrica = A.symmetric_difference(B)\n",
        "print(f'A diferença simétrica dos conjuntos tem {len(diferenca_simetrica)} elementos e é dada por: {diferenca_simetrica}')\n",
        "\n"
      ]
    },
    {
      "cell_type": "markdown",
      "metadata": {
        "id": "bXSPIRrvA9dh"
      },
      "source": [
        "**4. Sobre dicionários:**\n",
        "\n",
        "- Crie uma agenda utilizando um dicionário conforme estrutura abaixo, a agenda deve ter uma lista de 3 contatos.\n",
        "- Os contatos, além do nome, devem possuir telefone e email\n",
        "- Verifique se há algum contato com o nome 'marcos'\n",
        "- altere o telefone do primeiro contato\n",
        "- calcule quanto contatos possuem na lista\n",
        "\n",
        "```\n",
        "  # Estrutura do dicionário:\n",
        "  agenda = {\n",
        "      'contatos': [\n",
        "          {\n",
        "              'nome': string,\n",
        "              'tel': string,\n",
        "              'email': string\n",
        "          }\n",
        "      ]\n",
        "  }\n",
        "```"
      ]
    },
    {
      "cell_type": "code",
      "execution_count": null,
      "metadata": {
        "colab": {
          "base_uri": "https://localhost:8080/"
        },
        "id": "0juglPbwBJHw",
        "outputId": "7ca3a5ba-26bc-4126-db4c-8e9f768bfa47"
      },
      "outputs": [
        {
          "name": "stdout",
          "output_type": "stream",
          "text": [
            "O nome de Marcos não foi encontrado na agenda.\n",
            "{'Contatos': [{'Nome': 'Carlos', 'Telefone': '4588457394', 'Email': 'carlos@gmail.com'}, {'Nome': 'Joana', 'Telefone': '1147885410', 'Email': 'joanavieira@gmail.com'}, {'Nome': 'Maria Luísa', 'Telefone': '3687545524', 'Email': 'mariazinha@gmail.com'}]}\n",
            "Quantidade de contatos na agenda: 3\n"
          ]
        }
      ],
      "source": [
        "# Estrutura do dicionário:\n",
        "agenda = {\n",
        "    'Contatos': [\n",
        "        {\n",
        "            'Nome': 'Carlos',\n",
        "            'Telefone': '4988475521',\n",
        "            'Email': 'carlos@gmail.com'\n",
        "        },\n",
        "        {\n",
        "            'Nome': 'Joana',\n",
        "            'Telefone': '1147885410',\n",
        "            'Email': 'joanavieira@gmail.com'\n",
        "        },\n",
        "        {\n",
        "            'Nome': 'Maria Luísa',\n",
        "            'Telefone': '3687545524',\n",
        "            'Email': 'mariazinha@gmail.com'\n",
        "        }\n",
        "    ]\n",
        "}\n",
        "\n",
        "#Verifique se há algum contato com o nome 'marcos'\n",
        "nome_busca = 'marcos'.title()\n",
        "encontrado = False\n",
        "for contato in range(len(agenda['Contatos'])):\n",
        "  if nome_busca == agenda['Contatos'][contato]['Nome']:\n",
        "    encontrado = True\n",
        "    print(f'O nome de {nome_busca} foi encontrado na agenda.')\n",
        "    break\n",
        "\n",
        "if encontrado == False:\n",
        "  print(f'O nome de {nome_busca} não foi encontrado na agenda.')\n",
        "\n",
        "#altere o telefone do primeiro contato\n",
        "agenda['Contatos'][0]['Telefone'] = '4588457394'\n",
        "print(agenda)\n",
        "\n",
        "#calcule quanto contatos possuem na lista\n",
        "print('Quantidade de contatos na agenda:',len(agenda['Contatos']))"
      ]
    }
  ],
  "metadata": {
    "colab": {
      "collapsed_sections": [
        "T_nKB9CMQQDh"
      ],
      "provenance": []
    },
    "kernelspec": {
      "display_name": "Python 3",
      "name": "python3"
    },
    "language_info": {
      "name": "python"
    }
  },
  "nbformat": 4,
  "nbformat_minor": 0
}
