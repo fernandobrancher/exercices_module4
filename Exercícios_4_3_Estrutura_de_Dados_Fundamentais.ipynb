{
  "cells": [
    {
      "attachments": {},
      "cell_type": "markdown",
      "metadata": {
        "id": "T_nKB9CMQQDh"
      },
      "source": [
        "# **Exercícios**\n",
        "\n",
        "### **Aluno:** Fernando Augusto Brancher"
      ]
    },
    {
      "attachments": {},
      "cell_type": "markdown",
      "metadata": {
        "id": "BJuzGVucBzYA"
      },
      "source": [
        "### **Sobre filas**\n",
        "\n",
        "Escreva um programa que simule a distribuição de um grupo de pessoas em 2 filas de atendimento, prioritária ou regular, e consequentemente o atendimento delas. O programa deve obedecer às seguintes regras:\n",
        "\n",
        "- O grupo deve conter 20 pessoas\n",
        "- Cada pessoa pode ser alocada em uma fila prioritária ou regular, com probabilidades de 30% e 70%, reespectivamente\n",
        "- 1 pessoa da fila regular deve ser atendida a cada 3 pessoas da fila prioritária\n",
        "- Não havendo prioridades, as pessoas da fila regular podem ser atendidas\n",
        "\n",
        "\n",
        "```\n",
        "import random\n",
        "random.choices(population=opções, weights=probabilidades, k=quantidades)\n",
        "\n",
        "```"
      ]
    },
    {
      "cell_type": "code",
      "execution_count": null,
      "metadata": {
        "id": "t96TOCPPzTbs"
      },
      "outputs": [],
      "source": [
        "class Fila:\n",
        "  def __init__(self):\n",
        "    self.__fila = []\n",
        "\n",
        "  def enfileirar(self, valor):\n",
        "    self.__fila.append(valor)\n",
        "\n",
        "  def mostrar(self):\n",
        "    print(self.__fila)\n",
        "\n",
        "  def __repr__(self):\n",
        "    return str(self.__fila)\n",
        "\n",
        "  def esta_vazia(self):\n",
        "    if len(self.__fila) == 0:\n",
        "      return True\n",
        "    else:\n",
        "      return False\n",
        "\n",
        "  def desenfileirar(self):\n",
        "    if self.esta_vazia():\n",
        "      print('A fila está vazia!')\n",
        "      return None\n",
        "\n",
        "    return self.__fila.pop(0)\n",
        "\n",
        "  def ver_inicio(self):\n",
        "    if self.esta_vazia():\n",
        "      print('A fila está vazia!')\n",
        "      return None\n",
        "\n",
        "    return self.__fila[0]\n",
        "\n",
        "  def quantidade(self):\n",
        "    return len(self.__fila)"
      ]
    },
    {
      "cell_type": "code",
      "execution_count": null,
      "metadata": {
        "colab": {
          "base_uri": "https://localhost:8080/"
        },
        "id": "9DDCsRp_znW8",
        "outputId": "67aa5a4d-f348-4287-9c4c-5b4efd3a77a8"
      },
      "outputs": [
        {
          "name": "stdout",
          "output_type": "stream",
          "text": [
            "['prioritaria', 'regular', 'regular', 'regular', 'regular', 'regular', 'prioritaria', 'prioritaria', 'regular', 'prioritaria', 'regular', 'prioritaria', 'regular', 'prioritaria', 'prioritaria', 'regular', 'regular', 'prioritaria', 'regular', 'regular']\n",
            "qtde prioritaria: 8 | qtde regular 12\n",
            "desenfilerei proritaria\n",
            "desenfilerei proritaria\n",
            "desenfilerei proritaria\n",
            "desenfilerei regular\n",
            "desenfilerei proritaria\n",
            "desenfilerei proritaria\n",
            "desenfilerei proritaria\n",
            "desenfilerei regular\n",
            "desenfilerei proritaria\n",
            "desenfilerei proritaria\n",
            "desenfilerei regular\n",
            "desenfilerei regular\n",
            "desenfilerei regular\n",
            "desenfilerei regular\n",
            "desenfilerei regular\n",
            "desenfilerei regular\n",
            "desenfilerei regular\n",
            "desenfilerei regular\n",
            "desenfilerei regular\n",
            "desenfilerei regular\n"
          ]
        }
      ],
      "source": [
        "import random\n",
        "# criação das filas\n",
        "regular = Fila()\n",
        "prioritaria = Fila()\n",
        "\n",
        "# recebendo as pessoas e alocando nas filas corretas\n",
        "pessoas_geral = random.choices(population=['regular','prioritaria'], weights=[70,30], k=20)\n",
        "print(pessoas_geral)\n",
        "for pessoa in pessoas_geral:\n",
        "  if pessoa == 'regular':\n",
        "    regular.enfileirar(pessoa)\n",
        "  elif pessoa == 'prioritaria':\n",
        "    prioritaria.enfileirar(pessoa)\n",
        "\n",
        "# atendendo as pessoas\n",
        "print(f'qtde prioritaria: {prioritaria.quantidade()} | qtde regular {regular.quantidade()}')\n",
        "\n",
        "# PRIMEIRA OPÇÃO IMPLEMENTADA\n",
        "\n",
        "# while regular.quantidade() > 0 or prioritaria.quantidade() > 0:\n",
        "#   contador = 0\n",
        "#   while prioritaria.quantidade() > 0 and contador < 3:\n",
        "#     prioritaria.desenfileirar()\n",
        "#     print('desenfilerei proritaria')\n",
        "#     contador += 1\n",
        "#   regular.desenfileirar()\n",
        "#   print('desenfilerei regular')\n",
        "#   contador = 0\n",
        "\n",
        "# SEGUNDA OPÇÃO IMPLEMENTADA\n",
        "# Acredito ser mais otimizada pois sai do while quando atendeu todos prioritarios\n",
        "\n",
        "\n",
        "# atende 3 prioritario e 1 regular, enquanto tem prioritario\n",
        "while prioritaria.quantidade() > 0:\n",
        "  contador = 0\n",
        "  while prioritaria.quantidade() > 0 and contador < 3:\n",
        "    prioritaria.desenfileirar()\n",
        "    print('desenfilerei proritaria')\n",
        "    contador += 1\n",
        "  regular.desenfileirar()\n",
        "  print('desenfilerei regular')\n",
        "  contador = 0\n",
        "\n",
        "# atende as pessoas restante da fila regular\n",
        "restantes = regular.quantidade()\n",
        "for pessoa in range(0,restantes):\n",
        "  regular.desenfileirar()\n",
        "  print('desenfilerei regular')\n",
        "\n",
        "\n",
        "\n",
        "\n",
        "\n",
        "\n"
      ]
    },
    {
      "cell_type": "markdown",
      "metadata": {
        "id": "bXSPIRrvA9dh"
      },
      "source": [
        "**Sobre pilhas**\n",
        "\n",
        "Escreva um programa que gere 50 números inteiros randômicos entre 0 e 100. Para cada número gerado, verifique as seguintes regras:\n",
        "\n",
        "- se o número for par, empilhe na pilha chamada par;\n",
        "- se o número for ímpar, empilhe na pilha chamada ímpar;\n",
        "- se o número for 0, 10, 50 ou 100, desempilhe um elemento de cada pilha. Caso a pilha esteja vazia, mostre uma mensagem de fila vazia na tela.\n",
        "\n",
        "Ao termino do programa, desempilhe todos os elementos das duas pilhas, imprimindo-os na tela.\n"
      ]
    },
    {
      "cell_type": "code",
      "execution_count": null,
      "metadata": {
        "id": "X3zQ1TBf6Gbf"
      },
      "outputs": [],
      "source": [
        "class Pilha:\n",
        "  def __init__(self):\n",
        "    self.__pilha = []\n",
        "\n",
        "  def empilhar(self, valor):\n",
        "    self.__pilha.append(valor)\n",
        "\n",
        "  def __repr__(self):\n",
        "    return str(self.__pilha)\n",
        "\n",
        "  def mostrar(self):\n",
        "    print(self.__pilha)\n",
        "\n",
        "  def esta_vazia(self):\n",
        "    if len(self.__pilha) == 0:\n",
        "      return True\n",
        "    else:\n",
        "      return False\n",
        "\n",
        "  def desempilhar(self):\n",
        "    if self.esta_vazia():\n",
        "      print('A pilha está vazia!')\n",
        "      return None\n",
        "    \n",
        "    return self.__pilha.pop()\n",
        "\n",
        "  def ver_topo(self):\n",
        "    if self.esta_vazia():\n",
        "      print('A pilha está vazia!')\n",
        "      return None\n",
        "\n",
        "    return self.__pilha[-1]"
      ]
    },
    {
      "cell_type": "code",
      "execution_count": null,
      "metadata": {
        "colab": {
          "base_uri": "https://localhost:8080/"
        },
        "id": "0juglPbwBJHw",
        "outputId": "6f4c6d47-a67c-4a6a-a545-b624ccd9f9c1"
      },
      "outputs": [
        {
          "name": "stdout",
          "output_type": "stream",
          "text": [
            "79 [] [79]\n",
            "14 [14] [79]\n",
            "1 [14] [79, 1]\n",
            "55 [14] [79, 1, 55]\n",
            "76 [14, 76] [79, 1, 55]\n",
            "100 [14] [79, 1]\n",
            "67 [14] [79, 1, 67]\n",
            "98 [14, 98] [79, 1, 67]\n",
            "10 [14] [79, 1]\n",
            "21 [14] [79, 1, 21]\n"
          ]
        }
      ],
      "source": [
        "import random\n",
        "lista_randomica = []\n",
        "for i in range(0,50):\n",
        "  lista_randomica.append(random.randint(0, 100))\n",
        "\n",
        "# lista_randomica = [85, 32, 0, 76, 68, 59, 10, 51, 48, 97, 29, 50, 32]\n",
        "\n",
        "pilha_par = Pilha()\n",
        "pilha_impar = Pilha()\n",
        "\n",
        "for numero in lista_randomica:\n",
        "  if numero in [0,10,50,100]:\n",
        "    pilha_par.desempilhar()\n",
        "    pilha_impar.desempilhar()\n",
        "  elif numero % 2 == 0:\n",
        "    pilha_par.empilhar(numero)\n",
        "  else:\n",
        "    pilha_impar.empilhar(numero)\n",
        "  print(numero,pilha_par,pilha_impar)"
      ]
    },
    {
      "cell_type": "markdown",
      "metadata": {
        "id": "ETrQRaTvCbop"
      },
      "source": [
        "**Sobre listas encadeadas e pilhas**\n",
        "\n",
        "Refatore a implementação de pilhas, utilizando listas encadeadas como estrutura de dados, ao invés de listas ou arrays.\n"
      ]
    },
    {
      "cell_type": "code",
      "execution_count": null,
      "metadata": {
        "id": "xLHVoAdw8ckB"
      },
      "outputs": [],
      "source": [
        "# criando a classe Nó\n",
        "class No:\n",
        "  def __init__(self, valor):\n",
        "    self.valor = valor\n",
        "    self.proximo = None\n",
        "  \n",
        "  def __repr__(self):\n",
        "    return str(self.valor)\n",
        "\n",
        "# criando a classe de lista encadeada\n",
        "class ListaEncadeada:\n",
        "  def __init__(self):\n",
        "    self.primeiro = None\n",
        "\n",
        "  def inserir(self, valor):\n",
        "    novo_no = No(valor)\n",
        "    novo_no.proximo = self.primeiro\n",
        "    self.primeiro = novo_no\n",
        "\n",
        "  def esta_vazia(self):\n",
        "    return self.primeiro == None\n",
        "\n",
        "  def mostrar(self):\n",
        "    if self.esta_vazia():\n",
        "      print('A lista está vazia!')\n",
        "\n",
        "    no_atual = self.primeiro\n",
        "    while no_atual != None:\n",
        "      print(no_atual)\n",
        "      no_atual = no_atual.proximo\n",
        "\n",
        "  def mostrar_cadeia(self):\n",
        "    if self.esta_vazia():\n",
        "      print('A lista está vazia!')\n",
        "\n",
        "    s=''\n",
        "    no_atual= self.primeiro\n",
        "    while no_atual: \n",
        "        s+=str(no_atual.valor)+ '-> ' \n",
        "        no_atual = no_atual.proximo\n",
        "    return s\n",
        "\n",
        "  def remover(self, valor):\n",
        "    if self.esta_vazia():\n",
        "      print('A lista está vazia!')\n",
        "      return None\n",
        "\n",
        "    no_atual = self.primeiro\n",
        "    no_anterior = self.primeiro\n",
        "    while no_atual.valor != valor:\n",
        "      if no_atual.proximo == None:\n",
        "        return None\n",
        "      else:\n",
        "        no_anterior = no_atual\n",
        "        no_atual = no_atual.proximo\n",
        "\n",
        "    if no_atual == self.primeiro:\n",
        "      self.primeiro = no_atual.proximo\n",
        "    else:\n",
        "      no_anterior.proximo = no_atual.proximo\n",
        "\n",
        "    return no_atual\n",
        "\n",
        "  def remover_primeiro(self):\n",
        "    if self.esta_vazia():\n",
        "      print('A lista está vazia!')\n",
        "      return None\n",
        "\n",
        "    temp = self.primeiro\n",
        "    self.primeiro = self.primeiro.proximo\n",
        "    return temp\n",
        "\n",
        "  def tamanho(self):\n",
        "    contador = 0\n",
        "    no_atual = self.primeiro\n",
        "    while no_atual: \n",
        "        contador += 1\n",
        "        no_atual = no_atual.proximo\n",
        "    return contador\n",
        "\n",
        "\n"
      ]
    },
    {
      "cell_type": "code",
      "execution_count": null,
      "metadata": {
        "id": "NVLFK_i4DM5M"
      },
      "outputs": [],
      "source": [
        "class Pilha2:\n",
        "  def __init__(self):\n",
        "    self.__pilha = ListaEncadeada()\n",
        "\n",
        "  def empilhar(self, valor):\n",
        "    self.__pilha.inserir(valor)\n",
        "\n",
        "  def __repr__(self):\n",
        "    output = str(self.__pilha.mostrar_cadeia())\n",
        "    return output[:-3]\n",
        "\n",
        "  def mostrar(self):\n",
        "    print(self.__pilha.mostrar())\n",
        "\n",
        "  def esta_vazia(self):\n",
        "    if self.__pilha.tamanho() == 0:\n",
        "      return True\n",
        "    else:\n",
        "      return False\n",
        "\n",
        "  def desempilhar(self):\n",
        "    if self.esta_vazia():\n",
        "      print('A pilha está vazia!')\n",
        "      return None\n",
        "    \n",
        "    return self.__pilha.remover_primeiro()\n",
        "    # no caso acima, remove o primeiro, pois foi o último adicionado\n",
        "\n",
        "  def ver_topo(self):\n",
        "    if self.esta_vazia():\n",
        "      print('A pilha está vazia!')\n",
        "      return None\n",
        "\n",
        "    return self.__pilha.primeiro"
      ]
    },
    {
      "cell_type": "code",
      "execution_count": null,
      "metadata": {
        "colab": {
          "base_uri": "https://localhost:8080/"
        },
        "id": "S7As0fXm-hes",
        "outputId": "54c526ec-d971-4b86-f5fc-5bc7af4ca459"
      },
      "outputs": [
        {
          "name": "stdout",
          "output_type": "stream",
          "text": [
            "20-> 12-> 10-> 5\n",
            "12-> 10-> 5\n",
            "12\n"
          ]
        }
      ],
      "source": [
        "teste = Pilha2()\n",
        "teste.empilhar(5)\n",
        "teste.empilhar(10)\n",
        "teste.empilhar(12)\n",
        "teste.empilhar(20)\n",
        "print(teste)\n",
        "teste.desempilhar()\n",
        "print(teste)\n",
        "print(teste.ver_topo())"
      ]
    },
    {
      "cell_type": "markdown",
      "metadata": {
        "id": "65p9FTUjzYTt"
      },
      "source": [
        "**Sobre deques**\n",
        "\n",
        "Com base na teoria de deques e nas implementações de filas e pilhas, faça a implementação da estrutura de deques."
      ]
    },
    {
      "cell_type": "code",
      "execution_count": null,
      "metadata": {
        "id": "0FLCG0QfzyU2"
      },
      "outputs": [],
      "source": [
        "class Deques:\n",
        "  def __init__(self):\n",
        "    self.__fila = []\n",
        "\n",
        "  \n",
        "  def enfileirar_atras(self, valor):\n",
        "    self.__fila.append(valor)\n",
        "  \n",
        "  def enfileirar_frente(self, valor):\n",
        "    self.__fila.insert(0,valor)\n",
        "\n",
        "  def mostrar(self):\n",
        "    print(self.__fila)\n",
        "\n",
        "  def __repr__(self):\n",
        "    return str(self.__fila)\n",
        "\n",
        "  def esta_vazia(self):\n",
        "    if len(self.__fila) == 0:\n",
        "      return True\n",
        "    else:\n",
        "      return False\n",
        "\n",
        "  def desenfileirar_frente(self):\n",
        "    if self.esta_vazia():\n",
        "      print('A fila está vazia!')\n",
        "      return None\n",
        "\n",
        "    return self.__fila.pop(0)\n",
        "  \n",
        "  def desenfileirar_atras(self):\n",
        "    if self.esta_vazia():\n",
        "      print('A fila está vazia!')\n",
        "      return None\n",
        "\n",
        "    return self.__fila.pop()\n",
        "\n",
        "  def ver_inicio(self):\n",
        "    if self.esta_vazia():\n",
        "      print('A fila está vazia!')\n",
        "      return None\n",
        "\n",
        "    return self.__fila[0]\n"
      ]
    },
    {
      "cell_type": "code",
      "execution_count": null,
      "metadata": {
        "colab": {
          "base_uri": "https://localhost:8080/"
        },
        "id": "BkbDtb44ADB8",
        "outputId": "d2156fec-21d0-4490-f11e-706b5434159e"
      },
      "outputs": [
        {
          "name": "stdout",
          "output_type": "stream",
          "text": [
            "[14, 8, 5, 2, 15, 32]\n",
            "[14, 8, 5, 2, 15]\n",
            "[8, 5, 2, 15]\n",
            "[8, 5, 2]\n"
          ]
        }
      ],
      "source": [
        "deque = Deques()\n",
        "deque.enfileirar_atras(5)\n",
        "deque.enfileirar_atras(2)\n",
        "deque.enfileirar_atras(15)\n",
        "deque.enfileirar_frente(8)\n",
        "deque.enfileirar_atras(32)\n",
        "deque.enfileirar_frente(14)\n",
        "print(deque)\n",
        "deque.desenfileirar_atras()\n",
        "print(deque)\n",
        "deque.desenfileirar_frente()\n",
        "print(deque)\n",
        "deque.desenfileirar_atras()\n",
        "print(deque)"
      ]
    }
  ],
  "metadata": {
    "colab": {
      "provenance": []
    },
    "kernelspec": {
      "display_name": "Python 3",
      "language": "python",
      "name": "python3"
    },
    "language_info": {
      "name": "python",
      "version": "3.11.1"
    },
    "vscode": {
      "interpreter": {
        "hash": "23e1087692d03fda744743085a0ad0a40b07d745467f4f6ddbf1ad3c97f43123"
      }
    }
  },
  "nbformat": 4,
  "nbformat_minor": 0
}
